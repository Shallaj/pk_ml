{
 "cells": [
  {
   "cell_type": "code",
   "execution_count": 1,
   "metadata": {},
   "outputs": [],
   "source": [
    "# Import pandas\n",
    "import pandas as pd"
   ]
  },
  {
   "cell_type": "code",
   "execution_count": 2,
   "metadata": {},
   "outputs": [
    {
     "name": "stdout",
     "output_type": "stream",
     "text": [
      "   TYPE  D1  D2\n",
      "a     0   1   5\n",
      "b     1   2   6\n",
      "c     0   3   7\n",
      "d     1   4   8\n"
     ]
    }
   ],
   "source": [
    "# Given the following data\n",
    "indices = ['a', 'b', 'c', 'd']\n",
    "d_type = [0, 1, 0, 1]\n",
    "d1 = [1, 2, 3, 4]\n",
    "d2 = [5, 6, 7, 8]\n",
    "\n",
    "# Create a dataframe, in which 'indices' are the index, with 3 columns of data, called 'TYPE', 'D1', and 'D2'\n",
    "df = pd.DataFrame({'TYPE':d_type, 'D1':d1, 'D2':d2}, index=indices)\n",
    "print(df)\n",
    "# CODE HERE"
   ]
  },
  {
   "cell_type": "code",
   "execution_count": 3,
   "metadata": {},
   "outputs": [
    {
     "name": "stdout",
     "output_type": "stream",
     "text": [
      "{'a': 1, 'c': 3}\n"
     ]
    }
   ],
   "source": [
    "# Loop through the dataframe\n",
    "#  If the row is of type '0', add the index (as a key) and d1 (as a value) to the 'zero_dat' dictionary\n",
    "zero_dat = {}\n",
    "for ind, row in df.iterrows():\n",
    "    if row['TYPE']==0:\n",
    "        zero_dat[ind] = row['D1']\n",
    "# CODE HERE\n",
    "print(zero_dat)"
   ]
  }
 ],
 "metadata": {
  "kernelspec": {
   "display_name": "Python 3",
   "language": "python",
   "name": "python3"
  },
  "language_info": {
   "codemirror_mode": {
    "name": "ipython",
    "version": 3
   },
   "file_extension": ".py",
   "mimetype": "text/x-python",
   "name": "python",
   "nbconvert_exporter": "python",
   "pygments_lexer": "ipython3",
   "version": "3.8.13"
  }
 },
 "nbformat": 4,
 "nbformat_minor": 2
}
