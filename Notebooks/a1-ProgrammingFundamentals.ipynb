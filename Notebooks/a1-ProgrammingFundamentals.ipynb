{
 "cells": [
  {
   "cell_type": "markdown",
   "metadata": {
    "nbgrader": {
     "grade": false,
     "grade_id": "cell-4be53d3332b4be9b",
     "locked": true,
     "schema_version": 3,
     "solution": false
    }
   },
   "source": [
    "# Programming Fundamentals\n",
    "\n",
    "This notebook covers programming fundamentals\n",
    "\n",
    "## Tips & Tricks\n",
    "\n",
    "The following are a couple tips & tricks that may help you if you get stuck on anything.\n",
    "\n",
    "#### Printing Variables\n",
    "You can (and should) print and check variables as you go. This allows you to check what values they hold, and fix things if anything unexpected happens.\n",
    "\n",
    "#### Restarting the Kernel\n",
    "- If you run cells out of order, you can end up overwriting things in your namespace. \n",
    "- If things seem to go weird, a good first step is to restart the kernel, which you can do from the kernel menu above.\n",
    "- Even if everything seems to be working, it's a nice check to 'Restart & Run All', to make sure everything runs properly in order."
   ]
  },
  {
   "cell_type": "markdown",
   "metadata": {
    "nbgrader": {
     "grade": false,
     "grade_id": "cell-2379195456db25ad",
     "locked": true,
     "schema_version": 3,
     "solution": false
    }
   },
   "source": [
    "# Part I: Defining & manipulating variables\n",
    "\n",
    "## Q1\n",
    "Create the following variables:\n",
    "- a variable called `number` that stores the value 57\n",
    "- a variable called `decimal` that stores the value 9.32\n",
    "- a variable called `word` that stores the value 'AI-READI'\n",
    "- a variable called `int_dec`, created by casting `decimal` into an int"
   ]
  },
  {
   "cell_type": "code",
   "execution_count": null,
   "metadata": {
    "nbgrader": {
     "grade": false,
     "grade_id": "cell-0ef9f3314e11ed42",
     "locked": false,
     "schema_version": 3,
     "solution": true
    }
   },
   "outputs": [],
   "source": [
    "# Create the variables\n"
   ]
  },
  {
   "cell_type": "markdown",
   "metadata": {
    "nbgrader": {
     "grade": false,
     "grade_id": "cell-0f1da66e83a7e76e",
     "locked": true,
     "schema_version": 3,
     "solution": false
    }
   },
   "source": [
    "## Q2\n",
    "\n",
    "Create three different lists:\n",
    "\n",
    "- A list called `string_list` that contains three strings (can be any strings)\n",
    "- A list called `float_list` that contains three float numbers (can by any floats)\n",
    "- A list called `int_list` that contains three integers (can be any integers)\n",
    "- Then, create a new list, called `nested_list` which contains the three lists you created above."
   ]
  },
  {
   "cell_type": "code",
   "execution_count": null,
   "metadata": {
    "nbgrader": {
     "grade": false,
     "grade_id": "cell-951cc83732d3279e",
     "locked": false,
     "schema_version": 3,
     "solution": true
    }
   },
   "outputs": [],
   "source": [
    "# Create the lits\n"
   ]
  },
  {
   "cell_type": "markdown",
   "metadata": {
    "nbgrader": {
     "grade": false,
     "grade_id": "cell-a702dc8560a05ba6",
     "locked": true,
     "schema_version": 3,
     "solution": false,
     "task": false
    }
   },
   "source": [
    "# Part II: Indexing & slicing lists\n",
    "\n",
    "For Part II, the following lists are provided for you. Make sure you run the following cell."
   ]
  },
  {
   "cell_type": "code",
   "execution_count": null,
   "metadata": {},
   "outputs": [],
   "source": [
    "list_1 = [10, 20, 30, 40]\n",
    "list_2 = [13, 15, 17, 19, 21, 23]\n",
    "list_3 = [1, 2, 3, 4, 5, 6, 7, 8, 9, 10, 11]\n",
    "list_4 = [21, 9, 98, 289, 938]"
   ]
  },
  {
   "cell_type": "markdown",
   "metadata": {
    "nbgrader": {
     "grade": false,
     "grade_id": "cell-dec7f3e5ec4810a1",
     "locked": true,
     "schema_version": 3,
     "solution": false
    }
   },
   "source": [
    "## Q3\n",
    "\n",
    "Do the following using indexing:\n",
    "\n",
    "- Store the first value in `list_1` a variable called `index_1`\n",
    "- Store the last value in `list_2` to a variable called `index_2`\n",
    "- Store the first four values of `list_3` to a variable called `index_3`\n",
    "- Store the last four values of `list_4` to a variable called `index_4`"
   ]
  },
  {
   "cell_type": "code",
   "execution_count": null,
   "metadata": {
    "nbgrader": {
     "grade": false,
     "grade_id": "cell-eed94ec7e065c79f",
     "locked": false,
     "schema_version": 3,
     "solution": true
    }
   },
   "outputs": [],
   "source": [
    "# Indexing\n"
   ]
  },
  {
   "cell_type": "markdown",
   "metadata": {
    "nbgrader": {
     "grade": false,
     "grade_id": "cell-cec3af9dc8b60275",
     "locked": true,
     "schema_version": 3,
     "solution": false
    }
   },
   "source": [
    "# Part III: Create a gene dictionary\n",
    "Here, we'll create a dictionary of genes that are expressed in the brain. Choose any of the genes below to put into your dictionary:\n",
    "\n",
    "| Symbol | Full name                                |\n",
    "|--------|------------------------------------------|\n",
    "| BDNF   | brain derived neurotropic factor         |\n",
    "| DISC1  | disrupted in schizophrenia 1             |\n",
    "| PAX5   | paired box 5                             |\n",
    "| MECP2  | methyl CpG binding protein 2             |\n",
    "| SNAP25 | synaptosomal nerve-associated protein 25 |\n",
    "\n",
    "\n",
    "## Q4\n",
    "In the cell below, create a gene dictionary called `gene_dict` for three different genes from the list above. For each entry, the `key` should be a string that is the gene symbol, and the `value` should be the full name."
   ]
  },
  {
   "cell_type": "code",
   "execution_count": 3,
   "metadata": {
    "nbgrader": {
     "grade": false,
     "grade_id": "cell-2328a4cfec50de9d",
     "locked": false,
     "schema_version": 3,
     "solution": true
    }
   },
   "outputs": [],
   "source": [
    "# Gene dictionary\n",
    "\n"
   ]
  }
 ],
 "metadata": {
  "celltoolbar": "Create Assignment",
  "kernelspec": {
   "display_name": "Python 3",
   "language": "python",
   "name": "python3"
  },
  "language_info": {
   "codemirror_mode": {
    "name": "ipython",
    "version": 3
   },
   "file_extension": ".py",
   "mimetype": "text/x-python",
   "name": "python",
   "nbconvert_exporter": "python",
   "pygments_lexer": "ipython3",
   "version": "3.8.8"
  }
 },
 "nbformat": 4,
 "nbformat_minor": 2
}
