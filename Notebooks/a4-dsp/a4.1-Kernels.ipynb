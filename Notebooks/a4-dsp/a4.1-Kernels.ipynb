{
 "cells": [
  {
   "cell_type": "code",
   "execution_count": null,
   "metadata": {},
   "outputs": [],
   "source": [
    "# basic plotting imports\n",
    "%matplotlib inline\n",
    "%config InlineBackend.figure_format = 'retina' # high res plotting\n",
    "\n",
    "from scipy import signal\n",
    "import numpy as np\n",
    "\n",
    "import matplotlib\n",
    "import matplotlib.pyplot as plt\n",
    "import seaborn as sns\n",
    "sns.set(rc={'figure.figsize':(12,9)})\n",
    "sns.set_style('whitegrid')\n",
    "sns.set_style(\"whitegrid\", {'axes.grid' : False})"
   ]
  },
  {
   "cell_type": "markdown",
   "metadata": {},
   "source": [
    "### The cell below defines three mathematical functions: a Gaussian, exponential, and double exponential."
   ]
  },
  {
   "cell_type": "code",
   "execution_count": null,
   "metadata": {},
   "outputs": [],
   "source": [
    "# define gaussian function\n",
    "def func_gauss(time_series, amplitude, center, std):\n",
    "    return amplitude * np.exp(-(((time_series - center)**2) / (2 * (std**2)) ))\n",
    "\n",
    "# exponential decay function\n",
    "def func_exp(time_series, amplitude, tau, offset):\n",
    "    return amplitude * np.exp(- time_series / tau) + offset\n",
    "\n",
    "# double exponential equation\n",
    "def func_2exp(time_series, amplitude_1, tau_1, offset, amplitude_2, tau_2):\n",
    "    return amplitude_1 * np.exp(- time_series / tau_1) + amplitude_2 * np.exp(- time_series / tau_2) + offset"
   ]
  },
  {
   "cell_type": "markdown",
   "metadata": {},
   "source": [
    "### This next cell then uses those functions to create a time series."
   ]
  },
  {
   "cell_type": "code",
   "execution_count": null,
   "metadata": {},
   "outputs": [],
   "source": [
    "fs = 1000 # sampling rate\n",
    "kernel_t = 0.5 # number of seconds to simulate\n",
    "kernel_total_time = int(np.floor(fs * kernel_t))\n",
    "\n",
    "# create a time-series to pass into the function\n",
    "kernel_gauss = np.arange(0, kernel_total_time, dtype=int)\n",
    "kernel_gauss = func_gauss(kernel_gauss, 5, 250, 10)\n",
    "\n",
    "plt.plot(kernel_gauss)\n",
    "plt.show()"
   ]
  },
  {
   "cell_type": "markdown",
   "metadata": {},
   "source": [
    "### This cell then convolves the kernel with a time series."
   ]
  },
  {
   "cell_type": "code",
   "execution_count": null,
   "metadata": {},
   "outputs": [],
   "source": [
    "fs = 1000 # sampling rate\n",
    "data_t = 5 # number of seconds to simulate\n",
    "data_total_time = int(np.floor(fs * data_t))\n",
    "\n",
    "# time series of just ones\n",
    "data_gauss = np.ones(data_total_time)\n",
    "\n",
    "# convolved the kernel with with data\n",
    "data_gauss = signal.convolve(data_gauss, kernel_gauss)\n",
    "\n",
    "plt.plot(data_gauss)\n",
    "plt.show()"
   ]
  },
  {
   "cell_type": "code",
   "execution_count": null,
   "metadata": {},
   "outputs": [],
   "source": []
  }
 ],
 "metadata": {
  "kernelspec": {
   "display_name": "Python 3 (ipykernel)",
   "language": "python",
   "name": "python3"
  },
  "language_info": {
   "codemirror_mode": {
    "name": "ipython",
    "version": 3
   },
   "file_extension": ".py",
   "mimetype": "text/x-python",
   "name": "python",
   "nbconvert_exporter": "python",
   "pygments_lexer": "ipython3",
   "version": "3.8.13"
  }
 },
 "nbformat": 4,
 "nbformat_minor": 2
}
