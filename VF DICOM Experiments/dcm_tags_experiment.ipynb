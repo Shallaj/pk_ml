{
 "cells": [
  {
   "cell_type": "code",
   "execution_count": 1,
   "metadata": {},
   "outputs": [
    {
     "name": "stdout",
     "output_type": "stream",
     "text": [
      "Requirement already satisfied: pydicom in /Users/shahinh/anaconda3/lib/python3.11/site-packages (2.4.4)\n",
      "Note: you may need to restart the kernel to use updated packages.\n"
     ]
    }
   ],
   "source": [
    "pip install pydicom"
   ]
  },
  {
   "cell_type": "code",
   "execution_count": 7,
   "metadata": {},
   "outputs": [
    {
     "ename": "NotImplementedError",
     "evalue": "Non-relative patterns are unsupported",
     "output_type": "error",
     "traceback": [
      "\u001b[0;31m---------------------------------------------------------------------------\u001b[0m",
      "\u001b[0;31mNotImplementedError\u001b[0m                       Traceback (most recent call last)",
      "Cell \u001b[0;32mIn[7], line 6\u001b[0m\n\u001b[1;32m      3\u001b[0m \u001b[38;5;28;01mfrom\u001b[39;00m \u001b[38;5;21;01mpydicom\u001b[39;00m\u001b[38;5;21;01m.\u001b[39;00m\u001b[38;5;21;01mdata\u001b[39;00m \u001b[38;5;28;01mimport\u001b[39;00m get_testdata_file\n\u001b[1;32m      5\u001b[0m \u001b[38;5;66;03m# The path to a pydicom test dataset\u001b[39;00m\n\u001b[0;32m----> 6\u001b[0m path \u001b[38;5;241m=\u001b[39m get_testdata_file(\u001b[38;5;124m\"\u001b[39m\u001b[38;5;124m/Users/shahinh/Library/CloudStorage/OneDrive-UniversityofCalifornia,SanDiegoHealth/VF Data Standards/UCSD Reading Center Files/SD1031_VFdata_HFAII_HFA3/SD1031_fromForum_HFAII_HFA3_EncapPDFs/1.2.276.0.75.2.5.80.25.3.230531133823869.345048637379.37259266.dcm\u001b[39m\u001b[38;5;124m\"\u001b[39m)\n\u001b[1;32m      7\u001b[0m ds \u001b[38;5;241m=\u001b[39m dcmread(path)\n\u001b[1;32m      8\u001b[0m \u001b[38;5;66;03m# `arr` is a numpy.ndarray\u001b[39;00m\n",
      "File \u001b[0;32m~/anaconda3/lib/python3.11/site-packages/pydicom/data/data_manager.py:328\u001b[0m, in \u001b[0;36mget_testdata_file\u001b[0;34m(name, read, download)\u001b[0m\n\u001b[1;32m    286\u001b[0m \u001b[38;5;28;01mdef\u001b[39;00m \u001b[38;5;21mget_testdata_file\u001b[39m(\n\u001b[1;32m    287\u001b[0m     name: \u001b[38;5;28mstr\u001b[39m, read: \u001b[38;5;28mbool\u001b[39m \u001b[38;5;241m=\u001b[39m \u001b[38;5;28;01mFalse\u001b[39;00m, download: \u001b[38;5;28mbool\u001b[39m \u001b[38;5;241m=\u001b[39m \u001b[38;5;28;01mTrue\u001b[39;00m,\n\u001b[1;32m    288\u001b[0m ) \u001b[38;5;241m-\u001b[39m\u001b[38;5;241m>\u001b[39m Union[\u001b[38;5;28mstr\u001b[39m, \u001b[38;5;124m\"\u001b[39m\u001b[38;5;124mDataset\u001b[39m\u001b[38;5;124m\"\u001b[39m, \u001b[38;5;28;01mNone\u001b[39;00m]:\n\u001b[1;32m    289\u001b[0m \u001b[38;5;250m    \u001b[39m\u001b[38;5;124;03m\"\"\"Return an absolute path to the first matching dataset with filename\u001b[39;00m\n\u001b[1;32m    290\u001b[0m \u001b[38;5;124;03m    `name`.\u001b[39;00m\n\u001b[1;32m    291\u001b[0m \n\u001b[0;32m   (...)\u001b[0m\n\u001b[1;32m    326\u001b[0m \u001b[38;5;124;03m        ``True``, or ``None`` if the file is not found.\u001b[39;00m\n\u001b[1;32m    327\u001b[0m \u001b[38;5;124;03m    \"\"\"\u001b[39;00m\n\u001b[0;32m--> 328\u001b[0m     path \u001b[38;5;241m=\u001b[39m _get_testdata_file(name\u001b[38;5;241m=\u001b[39mname, download\u001b[38;5;241m=\u001b[39mdownload)\n\u001b[1;32m    329\u001b[0m     \u001b[38;5;28;01mif\u001b[39;00m read \u001b[38;5;129;01mand\u001b[39;00m path \u001b[38;5;129;01mis\u001b[39;00m \u001b[38;5;129;01mnot\u001b[39;00m \u001b[38;5;28;01mNone\u001b[39;00m:\n\u001b[1;32m    330\u001b[0m         \u001b[38;5;28;01mfrom\u001b[39;00m \u001b[38;5;21;01mpydicom\u001b[39;00m\u001b[38;5;21;01m.\u001b[39;00m\u001b[38;5;21;01mfilereader\u001b[39;00m \u001b[38;5;28;01mimport\u001b[39;00m dcmread\n",
      "File \u001b[0;32m~/anaconda3/lib/python3.11/site-packages/pydicom/data/data_manager.py:338\u001b[0m, in \u001b[0;36m_get_testdata_file\u001b[0;34m(name, download)\u001b[0m\n\u001b[1;32m    335\u001b[0m \u001b[38;5;28;01mdef\u001b[39;00m \u001b[38;5;21m_get_testdata_file\u001b[39m(name: \u001b[38;5;28mstr\u001b[39m, download: \u001b[38;5;28mbool\u001b[39m \u001b[38;5;241m=\u001b[39m \u001b[38;5;28;01mTrue\u001b[39;00m) \u001b[38;5;241m-\u001b[39m\u001b[38;5;241m>\u001b[39m Optional[\u001b[38;5;28mstr\u001b[39m]:\n\u001b[1;32m    336\u001b[0m     \u001b[38;5;66;03m# Check pydicom local\u001b[39;00m\n\u001b[1;32m    337\u001b[0m     data_path \u001b[38;5;241m=\u001b[39m Path(DATA_ROOT) \u001b[38;5;241m/\u001b[39m \u001b[38;5;124m'\u001b[39m\u001b[38;5;124mtest_files\u001b[39m\u001b[38;5;124m'\u001b[39m\n\u001b[0;32m--> 338\u001b[0m     matches \u001b[38;5;241m=\u001b[39m [m \u001b[38;5;28;01mfor\u001b[39;00m m \u001b[38;5;129;01min\u001b[39;00m data_path\u001b[38;5;241m.\u001b[39mrglob(name)]\n\u001b[1;32m    339\u001b[0m     \u001b[38;5;28;01mif\u001b[39;00m matches:\n\u001b[1;32m    340\u001b[0m         \u001b[38;5;28;01mreturn\u001b[39;00m os\u001b[38;5;241m.\u001b[39mfspath(matches[\u001b[38;5;241m0\u001b[39m])\n",
      "File \u001b[0;32m~/anaconda3/lib/python3.11/site-packages/pydicom/data/data_manager.py:338\u001b[0m, in \u001b[0;36m<listcomp>\u001b[0;34m(.0)\u001b[0m\n\u001b[1;32m    335\u001b[0m \u001b[38;5;28;01mdef\u001b[39;00m \u001b[38;5;21m_get_testdata_file\u001b[39m(name: \u001b[38;5;28mstr\u001b[39m, download: \u001b[38;5;28mbool\u001b[39m \u001b[38;5;241m=\u001b[39m \u001b[38;5;28;01mTrue\u001b[39;00m) \u001b[38;5;241m-\u001b[39m\u001b[38;5;241m>\u001b[39m Optional[\u001b[38;5;28mstr\u001b[39m]:\n\u001b[1;32m    336\u001b[0m     \u001b[38;5;66;03m# Check pydicom local\u001b[39;00m\n\u001b[1;32m    337\u001b[0m     data_path \u001b[38;5;241m=\u001b[39m Path(DATA_ROOT) \u001b[38;5;241m/\u001b[39m \u001b[38;5;124m'\u001b[39m\u001b[38;5;124mtest_files\u001b[39m\u001b[38;5;124m'\u001b[39m\n\u001b[0;32m--> 338\u001b[0m     matches \u001b[38;5;241m=\u001b[39m [m \u001b[38;5;28;01mfor\u001b[39;00m m \u001b[38;5;129;01min\u001b[39;00m data_path\u001b[38;5;241m.\u001b[39mrglob(name)]\n\u001b[1;32m    339\u001b[0m     \u001b[38;5;28;01mif\u001b[39;00m matches:\n\u001b[1;32m    340\u001b[0m         \u001b[38;5;28;01mreturn\u001b[39;00m os\u001b[38;5;241m.\u001b[39mfspath(matches[\u001b[38;5;241m0\u001b[39m])\n",
      "File \u001b[0;32m~/anaconda3/lib/python3.11/pathlib.py:964\u001b[0m, in \u001b[0;36mPath.rglob\u001b[0;34m(self, pattern)\u001b[0m\n\u001b[1;32m    962\u001b[0m drv, root, pattern_parts \u001b[38;5;241m=\u001b[39m \u001b[38;5;28mself\u001b[39m\u001b[38;5;241m.\u001b[39m_flavour\u001b[38;5;241m.\u001b[39mparse_parts((pattern,))\n\u001b[1;32m    963\u001b[0m \u001b[38;5;28;01mif\u001b[39;00m drv \u001b[38;5;129;01mor\u001b[39;00m root:\n\u001b[0;32m--> 964\u001b[0m     \u001b[38;5;28;01mraise\u001b[39;00m \u001b[38;5;167;01mNotImplementedError\u001b[39;00m(\u001b[38;5;124m\"\u001b[39m\u001b[38;5;124mNon-relative patterns are unsupported\u001b[39m\u001b[38;5;124m\"\u001b[39m)\n\u001b[1;32m    965\u001b[0m \u001b[38;5;28;01mif\u001b[39;00m pattern \u001b[38;5;129;01mand\u001b[39;00m pattern[\u001b[38;5;241m-\u001b[39m\u001b[38;5;241m1\u001b[39m] \u001b[38;5;129;01min\u001b[39;00m (\u001b[38;5;28mself\u001b[39m\u001b[38;5;241m.\u001b[39m_flavour\u001b[38;5;241m.\u001b[39msep, \u001b[38;5;28mself\u001b[39m\u001b[38;5;241m.\u001b[39m_flavour\u001b[38;5;241m.\u001b[39maltsep):\n\u001b[1;32m    966\u001b[0m     pattern_parts\u001b[38;5;241m.\u001b[39mappend(\u001b[38;5;124m'\u001b[39m\u001b[38;5;124m'\u001b[39m)\n",
      "\u001b[0;31mNotImplementedError\u001b[0m: Non-relative patterns are unsupported"
     ]
    }
   ],
   "source": [
    "import matplotlib.pyplot as plt\n",
    "from pydicom import dcmread\n",
    "from pydicom.data import get_testdata_file\n",
    "\n",
    "# The path to a pydicom test dataset\n",
    "path = get_testdata_file(\"/Users/shahinh/Library/CloudStorage/OneDrive-UniversityofCalifornia,SanDiegoHealth/VF Data Standards/UCSD Reading Center Files/SD1031_VFdata_HFAII_HFA3/SD1031_fromForum_HFAII_HFA3_EncapPDFs/1.2.276.0.75.2.5.80.25.3.230531133823869.345048637379.37259266.dcm\")\n",
    "ds = dcmread(path)\n",
    "# `arr` is a numpy.ndarray\n",
    "arr = ds.pixel_array\n",
    "\n",
    "plt.imshow(arr, cmap=\"gray\")\n",
    "plt.show()"
   ]
  },
  {
   "cell_type": "code",
   "execution_count": null,
   "metadata": {},
   "outputs": [],
   "source": []
  },
  {
   "cell_type": "code",
   "execution_count": null,
   "metadata": {},
   "outputs": [],
   "source": [
    "import matplotlib.pyplot as plt\n",
    "from pydicom import dcmread\n",
    "\n",
    "# The path to your DICOM file\n",
    "path = \"/Users/shahinh/Library/CloudStorage/OneDrive-UniversityofCalifornia,SanDiegoHealth/VF Data Standards/UCSD Reading Center Files/SD1031_VFdata_HFAII_HFA3/SD1031_fromForum_HFAII_HFA3_EncapPDFs/1.2.276.0.75.2.5.80.25.3.230531133823869.345048637379.37259266.dcm\"\n",
    "ds = dcmread(path)\n",
    "# `arr` is a numpy.ndarray\n",
    "arr = ds.pixel_array\n",
    "\n",
    "plt.imshow(arr, cmap=\"gray\")\n",
    "plt.show()"
   ]
  },
  {
   "cell_type": "code",
   "execution_count": 8,
   "metadata": {},
   "outputs": [
    {
     "ename": "AttributeError",
     "evalue": "Unable to convert the pixel data: one of Pixel Data, Float Pixel Data or Double Float Pixel Data must be present in the dataset",
     "output_type": "error",
     "traceback": [
      "\u001b[0;31m---------------------------------------------------------------------------\u001b[0m",
      "\u001b[0;31mAttributeError\u001b[0m                            Traceback (most recent call last)",
      "Cell \u001b[0;32mIn[8], line 8\u001b[0m\n\u001b[1;32m      6\u001b[0m ds \u001b[38;5;241m=\u001b[39m dcmread(path)\n\u001b[1;32m      7\u001b[0m \u001b[38;5;66;03m# `arr` is a numpy.ndarray\u001b[39;00m\n\u001b[0;32m----> 8\u001b[0m arr \u001b[38;5;241m=\u001b[39m ds\u001b[38;5;241m.\u001b[39mpixel_array\n\u001b[1;32m     10\u001b[0m plt\u001b[38;5;241m.\u001b[39mimshow(arr, cmap\u001b[38;5;241m=\u001b[39m\u001b[38;5;124m\"\u001b[39m\u001b[38;5;124mgray\u001b[39m\u001b[38;5;124m\"\u001b[39m)\n\u001b[1;32m     11\u001b[0m plt\u001b[38;5;241m.\u001b[39mshow()\n",
      "File \u001b[0;32m~/anaconda3/lib/python3.11/site-packages/pydicom/dataset.py:908\u001b[0m, in \u001b[0;36mDataset.__getattr__\u001b[0;34m(self, name)\u001b[0m\n\u001b[1;32m    906\u001b[0m     \u001b[38;5;28;01mreturn\u001b[39;00m {}\n\u001b[1;32m    907\u001b[0m \u001b[38;5;66;03m# Try the base class attribute getter (fix for issue 332)\u001b[39;00m\n\u001b[0;32m--> 908\u001b[0m \u001b[38;5;28;01mreturn\u001b[39;00m \u001b[38;5;28mobject\u001b[39m\u001b[38;5;241m.\u001b[39m\u001b[38;5;21m__getattribute__\u001b[39m(\u001b[38;5;28mself\u001b[39m, name)\n",
      "File \u001b[0;32m~/anaconda3/lib/python3.11/site-packages/pydicom/dataset.py:1955\u001b[0m, in \u001b[0;36mDataset.pixel_array\u001b[0;34m(self)\u001b[0m\n\u001b[1;32m   1940\u001b[0m \u001b[38;5;129m@property\u001b[39m\n\u001b[1;32m   1941\u001b[0m \u001b[38;5;28;01mdef\u001b[39;00m \u001b[38;5;21mpixel_array\u001b[39m(\u001b[38;5;28mself\u001b[39m) \u001b[38;5;241m-\u001b[39m\u001b[38;5;241m>\u001b[39m \u001b[38;5;124m\"\u001b[39m\u001b[38;5;124mnumpy.ndarray\u001b[39m\u001b[38;5;124m\"\u001b[39m:\n\u001b[1;32m   1942\u001b[0m \u001b[38;5;250m    \u001b[39m\u001b[38;5;124;03m\"\"\"Return the pixel data as a :class:`numpy.ndarray`.\u001b[39;00m\n\u001b[1;32m   1943\u001b[0m \n\u001b[1;32m   1944\u001b[0m \u001b[38;5;124;03m    .. versionchanged:: 1.4\u001b[39;00m\n\u001b[0;32m   (...)\u001b[0m\n\u001b[1;32m   1953\u001b[0m \u001b[38;5;124;03m        :class:`numpy.ndarray`.\u001b[39;00m\n\u001b[1;32m   1954\u001b[0m \u001b[38;5;124;03m    \"\"\"\u001b[39;00m\n\u001b[0;32m-> 1955\u001b[0m     \u001b[38;5;28mself\u001b[39m\u001b[38;5;241m.\u001b[39mconvert_pixel_data()\n\u001b[1;32m   1956\u001b[0m     \u001b[38;5;28;01mreturn\u001b[39;00m cast(\u001b[38;5;124m\"\u001b[39m\u001b[38;5;124mnumpy.ndarray\u001b[39m\u001b[38;5;124m\"\u001b[39m, \u001b[38;5;28mself\u001b[39m\u001b[38;5;241m.\u001b[39m_pixel_array)\n",
      "File \u001b[0;32m~/anaconda3/lib/python3.11/site-packages/pydicom/dataset.py:1512\u001b[0m, in \u001b[0;36mDataset.convert_pixel_data\u001b[0;34m(self, handler_name)\u001b[0m\n\u001b[1;32m   1510\u001b[0m     \u001b[38;5;28mself\u001b[39m\u001b[38;5;241m.\u001b[39m_convert_pixel_data_using_handler(handler_name)\n\u001b[1;32m   1511\u001b[0m \u001b[38;5;28;01melse\u001b[39;00m:\n\u001b[0;32m-> 1512\u001b[0m     \u001b[38;5;28mself\u001b[39m\u001b[38;5;241m.\u001b[39m_convert_pixel_data_without_handler()\n",
      "File \u001b[0;32m~/anaconda3/lib/python3.11/site-packages/pydicom/dataset.py:1624\u001b[0m, in \u001b[0;36mDataset._convert_pixel_data_without_handler\u001b[0;34m(self)\u001b[0m\n\u001b[1;32m   1615\u001b[0m \u001b[38;5;28mself\u001b[39m\u001b[38;5;241m.\u001b[39m_pixel_id \u001b[38;5;241m=\u001b[39m {}\n\u001b[1;32m   1617\u001b[0m logger\u001b[38;5;241m.\u001b[39minfo(\n\u001b[1;32m   1618\u001b[0m     \u001b[38;5;124m\"\u001b[39m\u001b[38;5;124mUnable to decode the pixel data using the following handlers: \u001b[39m\u001b[38;5;132;01m{}\u001b[39;00m\u001b[38;5;124m.\u001b[39m\u001b[38;5;124m\"\u001b[39m\n\u001b[1;32m   1619\u001b[0m     \u001b[38;5;124m\"\u001b[39m\u001b[38;5;124mPlease see the list of supported Transfer Syntaxes in the \u001b[39m\u001b[38;5;124m\"\u001b[39m\n\u001b[0;32m   (...)\u001b[0m\n\u001b[1;32m   1622\u001b[0m     \u001b[38;5;241m.\u001b[39mformat(\u001b[38;5;124m\"\u001b[39m\u001b[38;5;124m, \u001b[39m\u001b[38;5;124m\"\u001b[39m\u001b[38;5;241m.\u001b[39mjoin([\u001b[38;5;28mstr\u001b[39m(hh) \u001b[38;5;28;01mfor\u001b[39;00m hh \u001b[38;5;129;01min\u001b[39;00m available_handlers]))\n\u001b[1;32m   1623\u001b[0m )\n\u001b[0;32m-> 1624\u001b[0m \u001b[38;5;28;01mraise\u001b[39;00m last_exception\n",
      "File \u001b[0;32m~/anaconda3/lib/python3.11/site-packages/pydicom/dataset.py:1604\u001b[0m, in \u001b[0;36mDataset._convert_pixel_data_without_handler\u001b[0;34m(self)\u001b[0m\n\u001b[1;32m   1602\u001b[0m \u001b[38;5;28;01mfor\u001b[39;00m handler \u001b[38;5;129;01min\u001b[39;00m available_handlers:\n\u001b[1;32m   1603\u001b[0m     \u001b[38;5;28;01mtry\u001b[39;00m:\n\u001b[0;32m-> 1604\u001b[0m         \u001b[38;5;28mself\u001b[39m\u001b[38;5;241m.\u001b[39m_do_pixel_data_conversion(handler)\n\u001b[1;32m   1605\u001b[0m         \u001b[38;5;28;01mreturn\u001b[39;00m\n\u001b[1;32m   1606\u001b[0m     \u001b[38;5;28;01mexcept\u001b[39;00m \u001b[38;5;167;01mException\u001b[39;00m \u001b[38;5;28;01mas\u001b[39;00m exc:\n",
      "File \u001b[0;32m~/anaconda3/lib/python3.11/site-packages/pydicom/dataset.py:1631\u001b[0m, in \u001b[0;36mDataset._do_pixel_data_conversion\u001b[0;34m(self, handler)\u001b[0m\n\u001b[1;32m   1627\u001b[0m \u001b[38;5;250m\u001b[39m\u001b[38;5;124;03m\"\"\"Do the actual data conversion using the given handler.\"\"\"\u001b[39;00m\n\u001b[1;32m   1629\u001b[0m \u001b[38;5;66;03m# Use the handler to get a 1D numpy array of the pixel data\u001b[39;00m\n\u001b[1;32m   1630\u001b[0m \u001b[38;5;66;03m# Will raise an exception if no pixel data element\u001b[39;00m\n\u001b[0;32m-> 1631\u001b[0m arr \u001b[38;5;241m=\u001b[39m handler\u001b[38;5;241m.\u001b[39mget_pixeldata(\u001b[38;5;28mself\u001b[39m)\n\u001b[1;32m   1632\u001b[0m \u001b[38;5;28mself\u001b[39m\u001b[38;5;241m.\u001b[39m_pixel_array \u001b[38;5;241m=\u001b[39m reshape_pixel_array(\u001b[38;5;28mself\u001b[39m, arr)\n\u001b[1;32m   1634\u001b[0m \u001b[38;5;66;03m# Some handler/transfer syntax combinations may need to\u001b[39;00m\n\u001b[1;32m   1635\u001b[0m \u001b[38;5;66;03m#   convert the color space from YCbCr to RGB\u001b[39;00m\n",
      "File \u001b[0;32m~/anaconda3/lib/python3.11/site-packages/pydicom/pixel_data_handlers/numpy_handler.py:174\u001b[0m, in \u001b[0;36mget_pixeldata\u001b[0;34m(ds, read_only)\u001b[0m\n\u001b[1;32m    172\u001b[0m px_keyword \u001b[38;5;241m=\u001b[39m [kw \u001b[38;5;28;01mfor\u001b[39;00m kw \u001b[38;5;129;01min\u001b[39;00m keywords \u001b[38;5;28;01mif\u001b[39;00m kw \u001b[38;5;129;01min\u001b[39;00m ds]\n\u001b[1;32m    173\u001b[0m \u001b[38;5;28;01mif\u001b[39;00m \u001b[38;5;28mlen\u001b[39m(px_keyword) \u001b[38;5;241m!=\u001b[39m \u001b[38;5;241m1\u001b[39m:\n\u001b[0;32m--> 174\u001b[0m     \u001b[38;5;28;01mraise\u001b[39;00m \u001b[38;5;167;01mAttributeError\u001b[39;00m(\n\u001b[1;32m    175\u001b[0m         \u001b[38;5;124m\"\u001b[39m\u001b[38;5;124mUnable to convert the pixel data: one of Pixel Data, Float \u001b[39m\u001b[38;5;124m\"\u001b[39m\n\u001b[1;32m    176\u001b[0m         \u001b[38;5;124m\"\u001b[39m\u001b[38;5;124mPixel Data or Double Float Pixel Data must be present in \u001b[39m\u001b[38;5;124m\"\u001b[39m\n\u001b[1;32m    177\u001b[0m         \u001b[38;5;124m\"\u001b[39m\u001b[38;5;124mthe dataset\u001b[39m\u001b[38;5;124m\"\u001b[39m\n\u001b[1;32m    178\u001b[0m     )\n\u001b[1;32m    180\u001b[0m \u001b[38;5;66;03m# Attributes required by both Floating Point Image Pixel Module Attributes\u001b[39;00m\n\u001b[1;32m    181\u001b[0m \u001b[38;5;66;03m# and Image Pixel Description Macro Attributes\u001b[39;00m\n\u001b[1;32m    182\u001b[0m required_elements \u001b[38;5;241m=\u001b[39m [\n\u001b[1;32m    183\u001b[0m     \u001b[38;5;124m'\u001b[39m\u001b[38;5;124mBitsAllocated\u001b[39m\u001b[38;5;124m'\u001b[39m, \u001b[38;5;124m'\u001b[39m\u001b[38;5;124mRows\u001b[39m\u001b[38;5;124m'\u001b[39m, \u001b[38;5;124m'\u001b[39m\u001b[38;5;124mColumns\u001b[39m\u001b[38;5;124m'\u001b[39m,\n\u001b[1;32m    184\u001b[0m     \u001b[38;5;124m'\u001b[39m\u001b[38;5;124mSamplesPerPixel\u001b[39m\u001b[38;5;124m'\u001b[39m, \u001b[38;5;124m'\u001b[39m\u001b[38;5;124mPhotometricInterpretation\u001b[39m\u001b[38;5;124m'\u001b[39m\n\u001b[1;32m    185\u001b[0m ]\n",
      "\u001b[0;31mAttributeError\u001b[0m: Unable to convert the pixel data: one of Pixel Data, Float Pixel Data or Double Float Pixel Data must be present in the dataset"
     ]
    }
   ],
   "source": [
    "import matplotlib.pyplot as plt\n",
    "from pydicom import dcmread\n",
    "\n",
    "# The path to a pydicom test dataset\n",
    "path = \"/Users/shahinh/Library/CloudStorage/OneDrive-UniversityofCalifornia,SanDiegoHealth/VF Data Standards/UCSD Reading Center Files/SD1031_VFdata_HFAII_HFA3/SD1031_fromForum_HFAII_HFA3_EncapPDFs/1.2.276.0.75.2.5.80.25.3.230531133823869.345048637379.37259266.dcm\"\n",
    "ds = dcmread(path)\n",
    "# `arr` is a numpy.ndarray\n",
    "arr = ds.pixel_array\n",
    "\n",
    "plt.imshow(arr, cmap=\"gray\")\n",
    "plt.show()"
   ]
  },
  {
   "cell_type": "code",
   "execution_count": 9,
   "metadata": {},
   "outputs": [
    {
     "name": "stdout",
     "output_type": "stream",
     "text": [
      "No pixel data found in this DICOM file.\n"
     ]
    }
   ],
   "source": [
    "import matplotlib.pyplot as plt\n",
    "from pydicom import dcmread\n",
    "\n",
    "# The path to your DICOM file\n",
    "path = \"/Users/shahinh/Library/CloudStorage/OneDrive-UniversityofCalifornia,SanDiegoHealth/VF Data Standards/UCSD Reading Center Files/SD1031_VFdata_HFAII_HFA3/SD1031_fromForum_HFAII_HFA3_EncapPDFs/1.2.276.0.75.2.5.80.25.3.230531133823869.345048637379.37259266.dcm\"\n",
    "ds = dcmread(path)\n",
    "\n",
    "# Check if pixel data is available\n",
    "if 'PixelData' in ds:\n",
    "    arr = ds.pixel_array\n",
    "    plt.imshow(arr, cmap=\"gray\")\n",
    "    plt.show()\n",
    "else:\n",
    "    print(\"No pixel data found in this DICOM file.\")"
   ]
  },
  {
   "cell_type": "code",
   "execution_count": 10,
   "metadata": {},
   "outputs": [
    {
     "name": "stdout",
     "output_type": "stream",
     "text": [
      "(0008, 0005) Specific Character Set              CS: 'ISO_IR 192'\n",
      "(0008, 0012) Instance Creation Date              DA: '20230531'\n",
      "(0008, 0013) Instance Creation Time              TM: '133823.869'\n",
      "(0008, 0016) SOP Class UID                       UI: Encapsulated PDF Storage\n",
      "(0008, 0018) SOP Instance UID                    UI: 1.2.276.0.75.2.5.80.25.3.230531133823869.345048637379.37259266\n",
      "(0008, 0020) Study Date                          DA: '20230309'\n",
      "(0008, 0023) Content Date                        DA: '20230531'\n",
      "(0008, 002a) Acquisition DateTime                DT: '20230309090402.007'\n",
      "(0008, 0030) Study Time                          TM: '084018.948'\n",
      "(0008, 0033) Content Time                        TM: '133823.869'\n",
      "(0008, 0050) Accession Number                    SH: ''\n",
      "(0008, 0060) Modality                            CS: 'OPV'\n",
      "(0008, 0064) Conversion Type                     CS: 'SYN'\n",
      "(0008, 0070) Manufacturer                        LO: 'Carl Zeiss Meditec'\n",
      "(0008, 0080) Institution Name                    LO: 'UCSD Ophthalmology Research'\n",
      "(0008, 0090) Referring Physician's Name          PN: ''\n",
      "(0008, 1010) Station Name                        SH: 'mradappp06'\n",
      "(0008, 103e) Series Description                  LO: 'OVERVIEW'\n",
      "(0008, 1090) Manufacturer's Model Name           LO: 'FORUM Glaucoma Workplace'\n",
      "(0010, 0010) Patient's Name                      PN: 'SD1031^SD'\n",
      "(0010, 0020) Patient ID                          LO: 'SD1031'\n",
      "(0010, 0021) Issuer of Patient ID                LO: 'HFA 3'\n",
      "(0010, 0030) Patient's Birth Date                DA: '19500814'\n",
      "(0010, 0040) Patient's Sex                       CS: 'F'\n",
      "(0018, 1020) Software Versions                   LO: ['3.5.0.178611-1020', '']\n",
      "(0018, a001) Contributing Equipment Sequence     SQ: <Sequence, length 1>\n",
      "(0020, 000d) Study Instance UID                  UI: 1.2.276.0.75.2.2.30.2.1.20230309084018.860.15084\n",
      "(0020, 000e) Series Instance UID                 UI: 1.2.276.0.75.2.5.80.25.2.230531133823869.345048637379.37259265\n",
      "(0020, 0010) Study ID                            SH: 'OPV_20230309'\n",
      "(0020, 0011) Series Number                       IS: '1'\n",
      "(0020, 0013) Instance Number                     IS: '1'\n",
      "(0020, 0060) Laterality                          CS: 'L'\n",
      "(0020, 0062) Image Laterality                    CS: 'L'\n",
      "(0028, 0301) Burned In Annotation                CS: 'YES'\n",
      "(0040, 0244) Performed Procedure Step Start Date DA: '20230531'\n",
      "(0040, 0245) Performed Procedure Step Start Time TM: '133823.868'\n",
      "(0040, 0253) Performed Procedure Step ID         SH: 'fde-84d559088bcc'\n",
      "(0040, 0254) Performed Procedure Step Descriptio LO: 'OVERVIEW'\n",
      "(0040, a043) Concept Name Code Sequence          SQ: <Sequence, length 0>\n",
      "(0042, 0010) Document Title                      ST: 'OVERVIEW_O10_2'\n",
      "(0042, 0011) Encapsulated Document               OB: Array of 130144 elements\n",
      "(0042, 0012) MIME Type of Encapsulated Document  LO: 'application/pdf'\n",
      "(0042, 0013) Source Instance Sequence            SQ: <Sequence, length 12>\n",
      "(2201, 0010) Private Creator                     LO: '99CZM_NIM_INTERNAL_01'\n",
      "(2201, 1000) Private tag data                    LT: Array of 18 elements\n",
      "(2201, 1001) Private tag data                    LT: '2.13'\n",
      "(2201, 1002) Private tag data                    LT: Array of 89 elements\n",
      "(22a1, 0010) Private Creator                     LO: '99CZM_SpecializedEncapsulatedDocument'\n",
      "(22a1, 1001) Private tag data                    LO: 'OVERVIEW'\n",
      "(2501, 0010) Private Creator                     LO: '99CZM_Solln'\n",
      "(2501, 1000) Private tag data                    CS: 'OVR_00'\n",
      "(7717, 0010) Private Creator                     LO: '99CZM_HFA_EMR_2'\n",
      "(7717, 1001) Private tag data                    LO: 'Central 10-2 Threshold Test'\n",
      "(7717, 1002) Private tag data                    LO: 'SITA Standard'\n",
      "(7717, 1003) Private tag data                    CS: 'III'\n",
      "(7717, 1004) Private tag data                    SH: 'White'\n",
      "(7717, 1005) Private tag data                    SH: 'White'\n",
      "(7717, 1006) Private tag data                    CS: 'SEEN'\n",
      "(7717, 1008) Private tag data                    IS: '18'\n",
      "(7717, 1009) Private tag data                    IS: '0'\n",
      "(7717, 1010) Private tag data                    DS: '0.0'\n",
      "(7717, 1013) Private tag data                    DS: '7.0'\n",
      "(7717, 1016) Private tag data                    DS: '-4.85'\n",
      "(7717, 1017) Private tag data                    LO: 'P < 1%'\n",
      "(7717, 1018) Private tag data                    DS: '3.71'\n",
      "(7717, 1019) Private tag data                    LO: 'P < 1%'\n",
      "(7717, 1024) Private tag data                    LO: 'Gaze/Blind Spot'\n",
      "(7717, 1025) Private tag data                    LO: 'Central'\n",
      "(7717, 1026) Private tag data                    DS: '4.2'\n",
      "(7717, 1027) Private tag data                    DS: '2.5'\n",
      "(7717, 1032) Private tag data                    DA: '20230309'\n",
      "(7717, 1033) Private tag data                    TM: '090402'\n"
     ]
    }
   ],
   "source": [
    "from pydicom import dcmread\n",
    "\n",
    "# The path to your DICOM file\n",
    "path = \"/Users/shahinh/Library/CloudStorage/OneDrive-UniversityofCalifornia,SanDiegoHealth/VF Data Standards/UCSD Reading Center Files/SD1031_VFdata_HFAII_HFA3/SD1031_fromForum_HFAII_HFA3_EncapPDFs/1.2.276.0.75.2.5.80.25.3.230531133823869.345048637379.37259266.dcm\"\n",
    "ds = dcmread(path)\n",
    "\n",
    "# Print all tags\n",
    "for element in ds:\n",
    "    print(element)"
   ]
  },
  {
   "cell_type": "code",
   "execution_count": 11,
   "metadata": {},
   "outputs": [
    {
     "name": "stdout",
     "output_type": "stream",
     "text": [
      "OPV_DICOM_Tage.csv\n"
     ]
    }
   ],
   "source": [
    "import csv\n",
    "from pydicom import dcmread\n",
    "\n",
    "# The path to your DICOM file\n",
    "path = \"/Users/shahinh/Library/CloudStorage/OneDrive-UniversityofCalifornia,SanDiegoHealth/VF Data Standards/UCSD Reading Center Files/SD1031_VFdata_HFAII_HFA3/SD1031_fromForum_HFAII_HFA3_EncapPDFs/1.2.276.0.75.2.5.80.25.3.230531133823869.345048637379.37259266.dcm\"\n",
    "ds = dcmread(path)\n",
    "\n",
    "# Open a CSV file for writing\n",
    "with open('tags.csv', 'w', newline='') as csvfile:\n",
    "    writer = csv.writer(csvfile)\n",
    "\n",
    "    # Write the header row\n",
    "    writer.writerow(['Tag', 'Value'])\n",
    "\n",
    "    # Write each tag and its value\n",
    "    for element in ds:\n",
    "        writer.writerow([element.tag, element.value])\n",
    "\n",
    "print(\"OPV_DICOM_Tage.csv\")\n"
   ]
  },
  {
   "cell_type": "code",
   "execution_count": 12,
   "metadata": {},
   "outputs": [
    {
     "name": "stdout",
     "output_type": "stream",
     "text": [
      "tags_raw_dcm.csv\n"
     ]
    }
   ],
   "source": [
    "import csv\n",
    "from pydicom import dcmread\n",
    "\n",
    "# The path to your DICOM file\n",
    "path = \"/Users/shahinh/Library/CloudStorage/OneDrive-UniversityofCalifornia,SanDiegoHealth/VF Data Standards/UCSD Reading Center Files/SD1031_VFdata_HFAII_HFA3/SD1031_fromForum_HFAII_HFA3_RawData/1.2.276.0.75.2.2.30.2.3.20070430142811.750.9500.dcm\"\n",
    "ds = dcmread(path)\n",
    "\n",
    "# Open a CSV file for writing\n",
    "with open('tags_raw_dcm.csv', 'w', newline='') as csvfile:\n",
    "    writer = csv.writer(csvfile)\n",
    "\n",
    "    # Write the header row\n",
    "    writer.writerow(['Tag', 'Value'])\n",
    "\n",
    "    # Write each tag and its value\n",
    "    for element in ds:\n",
    "        writer.writerow([element.tag, element.value])\n",
    "\n",
    "print(\"tags_raw_dcm.csv\")\n"
   ]
  },
  {
   "cell_type": "code",
   "execution_count": 1,
   "metadata": {},
   "outputs": [
    {
     "name": "stdout",
     "output_type": "stream",
     "text": [
      "(0008, 0005) Specific Character Set              CS: 'ISO_IR 192'\n",
      "(0008, 0012) Instance Creation Date              DA: '20231115'\n",
      "(0008, 0013) Instance Creation Time              TM: '115905.951'\n",
      "(0008, 0016) SOP Class UID                       UI: Ophthalmic Visual Field Static Perimetry Measurements Storage\n",
      "(0008, 0018) SOP Instance UID                    UI: 1.2.276.0.75.2.5.80.25.3.231115115905951.345048637379.415558322\n",
      "(0008, 0020) Study Date                          DA: '20230914'\n",
      "(0008, 0030) Study Time                          TM: '103811.519'\n",
      "(0008, 0050) Accession Number                    SH: ''\n",
      "(0008, 0060) Modality                            CS: 'OPV'\n",
      "(0008, 0070) Manufacturer                        LO: 'Carl Zeiss Meditec'\n",
      "(0008, 0080) Institution Name                    LO: 'UCSD Ophthalmology Research'\n",
      "(0008, 0090) Referring Physician's Name          PN: ''\n",
      "(0008, 1010) Station Name                        SH: 'mradappp06'\n",
      "(0008, 103e) Series Description                  LO: 'OPV'\n",
      "(0008, 1090) Manufacturer's Model Name           LO: 'FORUM Glaucoma Workplace'\n",
      "(0008, 114a) Referenced Instance Sequence        SQ: <Sequence, length 1>\n",
      "(0010, 0010) Patient's Name                      PN: 'SD1031^SD'\n",
      "(0010, 0020) Patient ID                          LO: 'SD1031'\n",
      "(0010, 0021) Issuer of Patient ID                LO: 'HFA 3'\n",
      "(0010, 0030) Patient's Birth Date                DA: '19500814'\n",
      "(0010, 0040) Patient's Sex                       CS: 'F'\n",
      "(0018, 1000) Device Serial Number                LO: '860-15084'\n",
      "(0018, 1020) Software Versions                   LO: ['3.5.0.178611-1020', '', '1.5.3.714']\n",
      "(0018, a001) Contributing Equipment Sequence     SQ: <Sequence, length 1>\n",
      "(0020, 000d) Study Instance UID                  UI: 1.2.276.0.75.2.2.30.2.1.20230914103811.860.15084\n",
      "(0020, 000e) Series Instance UID                 UI: 1.2.276.0.75.2.5.80.25.2.231115115905951.345048637379.415558321\n",
      "(0020, 0010) Study ID                            SH: 'OPV_20230914'\n",
      "(0020, 0011) Series Number                       IS: '1'\n",
      "(0020, 0013) Instance Number                     IS: '1'\n",
      "(0020, 0060) Laterality                          CS: 'L'\n",
      "(0024, 0010) Visual Field Horizontal Extent      FL: 10.0\n",
      "(0024, 0011) Visual Field Vertical Extent        FL: 10.0\n",
      "(0024, 0012) Visual Field Shape                  CS: 'CIRCLE'\n",
      "(0024, 0018) Maximum Stimulus Luminance          FL: 3183.098876953125\n",
      "(0024, 0020) Background Luminance                FL: 10.026762008666992\n",
      "(0024, 0021) Stimulus Color Code Sequence        SQ: <Sequence, length 1>\n",
      "(0024, 0024) Background Illumination Color Code  SQ: <Sequence, length 1>\n",
      "(0024, 0025) Stimulus Area                       FL: 0.1474803239107132\n",
      "(0024, 0028) Stimulus Presentation Time          FL: 200.0\n",
      "(0024, 0032) Fixation Sequence                   SQ: <Sequence, length 1>\n",
      "(0024, 0034) Visual Field Catch Trial Sequence   SQ: <Sequence, length 1>\n",
      "(0024, 0037) Presented Visual Stimuli Data Flag  CS: 'NO'\n",
      "(0024, 0057) Test Point Normals Data Flag        CS: 'YES'\n",
      "(0024, 0058) Test Point Normals Sequence         SQ: <Sequence, length 1>\n",
      "(0024, 0063) Visual Field Test Normals Flag      CS: 'YES'\n",
      "(0024, 0064) Results Normals Sequence            SQ: <Sequence, length 1>\n",
      "(0024, 0065) Age Corrected Sensitivity Deviation SQ: <Sequence, length 1>\n",
      "(0024, 0067) Generalized Defect Sensitivity Devi SQ: <Sequence, length 1>\n",
      "(0024, 0074) Short Term Fluctuation Calculated   CS: 'NO'\n",
      "(0024, 0076) Short Term Fluctuation Probability  CS: 'NO'\n",
      "(0024, 0078) Corrected Localized Deviation From  CS: 'NO'\n",
      "(0024, 0080) Corrected Localized Deviation From  CS: 'NO'\n",
      "(0024, 0086) Foveal Sensitivity Measured         CS: 'YES'\n",
      "(0024, 0087) Foveal Sensitivity                  FL: 28.0\n",
      "(0024, 0088) Visual Field Test Duration          FL: 547.0\n",
      "(0024, 0089) Visual Field Test Point Sequence    SQ: Array of 68 elements\n",
      "(0024, 0105) Minimum Sensitivity Value           FL: 0.0\n",
      "(0024, 0106) Blind Spot Localized                CS: 'NO'\n",
      "(0024, 0113) Measurement Laterality              CS: 'L'\n",
      "(0024, 0114) Ophthalmic Patient Clinical Informa SQ: <Sequence, length 1>\n",
      "(0024, 0117) Foveal Point Normative Data Flag    CS: 'YES'\n",
      "(0024, 0118) Foveal Point Probability Value      FL: 0.5\n",
      "(0024, 0120) Screening Baseline Measured         CS: 'YES'\n",
      "(0024, 0122) Screening Baseline Measured Sequenc SQ: <Sequence, length 1>\n",
      "(0040, 0244) Performed Procedure Step Start Date DA: '20230914'\n",
      "(0040, 0245) Performed Procedure Step Start Time TM: '104727.659'\n",
      "(0040, 0254) Performed Procedure Step Descriptio LO: 'OPV'\n",
      "(0040, 0260) Performed Protocol Code Sequence    SQ: <Sequence, length 2>\n",
      "(0305, 0010) Private Creator                     LO: '99CZM_Hfa_OphthalmicVisualFieldStaticPerimetry'\n",
      "(0305, 1001) Private tag data                    LO: 'Central'\n",
      "(2201, 0010) Private Creator                     LO: '99CZM_NIM_INTERNAL_01'\n",
      "(2201, 1000) Private tag data                    LT: Array of 51 elements\n",
      "(2201, 1001) Private tag data                    LT: '2.13'\n",
      "(2201, 1002) Private tag data                    LT: Array of 85 elements\n",
      "No pixel data found in this DICOM file.\n",
      "CSV file 'tags_opv_dcm.csv' has been created.\n"
     ]
    }
   ],
   "source": [
    "import csv\n",
    "from pydicom import dcmread\n",
    "\n",
    "# The path to your DICOM file\n",
    "path = \"/Users/shahinh/Library/CloudStorage/OneDrive-UniversityofCalifornia,SanDiegoHealth/VF Data Standards/UCSD Reading Center Files/SD1031_VFdata_HFAII_HFA3/SD1031_fromForum_OPV/SD1031_20230914_OS_OPV.dcm\"\n",
    "ds = dcmread(path, force=True)\n",
    "\n",
    "# Print all tags\n",
    "for element in ds:\n",
    "    print(element)\n",
    "\n",
    "# Check if pixel data is available\n",
    "if 'PixelData' in ds:\n",
    "    print(\"Pixel data is available in this DICOM file.\")\n",
    "else:\n",
    "    print(\"No pixel data found in this DICOM file.\")\n",
    "\n",
    "# Open a CSV file for writing\n",
    "csv_file_path = 'tags_opv_dcm.csv'\n",
    "with open(csv_file_path, 'w', newline='') as csvfile:\n",
    "    writer = csv.writer(csvfile)\n",
    "\n",
    "    # Write the header row with more descriptive information\n",
    "    writer.writerow(['Tag', 'Description', 'Value'])\n",
    "\n",
    "    # Write each tag, its description, and value\n",
    "    for element in ds:\n",
    "        tag = element.tag\n",
    "        description = element.description if hasattr(element, 'description') else \"N/A\"\n",
    "        value = str(element.value) if element.VR != 'SQ' else \"Sequence Data (not shown)\"\n",
    "        writer.writerow([tag, description, value])\n",
    "\n",
    "print(f\"CSV file '{csv_file_path}' has been created.\")\n"
   ]
  },
  {
   "cell_type": "code",
   "execution_count": 2,
   "metadata": {},
   "outputs": [
    {
     "name": "stdout",
     "output_type": "stream",
     "text": [
      "CSV file 'tags_opv_dcm.csv' has been created.\n"
     ]
    }
   ],
   "source": [
    "import csv\n",
    "from pydicom import dcmread\n",
    "\n",
    "# The path to your DICOM file\n",
    "path = \"/Users/shahinh/Library/CloudStorage/OneDrive-UniversityofCalifornia,SanDiegoHealth/VF Data Standards/UCSD Reading Center Files/SD1031_VFdata_HFAII_HFA3/SD1031_fromForum_OPV/SD1031_20230914_OS_OPV.dcm\"\n",
    "ds = dcmread(path, force=True)\n",
    "\n",
    "# Open a CSV file for writing\n",
    "csv_file_path = 'tags_opv_dcm.csv'\n",
    "with open(csv_file_path, 'w', newline='') as csvfile:\n",
    "    writer = csv.writer(csvfile)\n",
    "\n",
    "    # Write the header row with more descriptive information\n",
    "    writer.writerow(['Tag', 'Description', 'Value'])\n",
    "\n",
    "    # Function to recursively write tags and values\n",
    "    def write_tags(dataset, parent_tag=\"\"):\n",
    "        for data_element in dataset:\n",
    "            tag = data_element.tag\n",
    "            description = data_element.description if hasattr(data_element, 'description') else \"N/A\"\n",
    "            value = str(data_element.value) if data_element.VR != 'SQ' else \"Sequence Data (not shown)\"\n",
    "            full_tag = f\"{parent_tag}.{tag}\" if parent_tag else str(tag)\n",
    "            writer.writerow([full_tag, description, value])\n",
    "\n",
    "            # Recursively handle nested elements (sequences and items)\n",
    "            if data_element.VR == 'SQ':\n",
    "                for i, seq_item in enumerate(data_element.value):\n",
    "                    seq_tag = f\"{full_tag}[{i + 1}]\"\n",
    "                    write_tags(seq_item, parent_tag=seq_tag)\n",
    "\n",
    "    # Start writing tags\n",
    "    write_tags(ds)\n",
    "\n",
    "print(f\"CSV file '{csv_file_path}' has been created.\")\n"
   ]
  },
  {
   "cell_type": "code",
   "execution_count": null,
   "metadata": {},
   "outputs": [],
   "source": []
  }
 ],
 "metadata": {
  "kernelspec": {
   "display_name": "base",
   "language": "python",
   "name": "python3"
  },
  "language_info": {
   "codemirror_mode": {
    "name": "ipython",
    "version": 3
   },
   "file_extension": ".py",
   "mimetype": "text/x-python",
   "name": "python",
   "nbconvert_exporter": "python",
   "pygments_lexer": "ipython3",
   "version": "3.11.4"
  }
 },
 "nbformat": 4,
 "nbformat_minor": 2
}
